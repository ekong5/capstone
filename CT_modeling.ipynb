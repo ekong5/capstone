{
 "cells": [
  {
   "cell_type": "code",
   "execution_count": 2,
   "id": "91b1bd38",
   "metadata": {},
   "outputs": [
    {
     "name": "stderr",
     "output_type": "stream",
     "text": [
      "/Users/Emma/Desktop/capstone/.venv/lib/python3.12/site-packages/tqdm/auto.py:21: TqdmWarning: IProgress not found. Please update jupyter and ipywidgets. See https://ipywidgets.readthedocs.io/en/stable/user_install.html\n",
      "  from .autonotebook import tqdm as notebook_tqdm\n"
     ]
    }
   ],
   "source": [
    "import matplotlib.pyplot as plt\n",
    "from nltk.tree import Tree\n",
    "import numpy as np\n",
    "import re\n",
    "import seaborn as sns\n",
    "from transformers import AutoModel, AutoTokenizer\n",
    "import torch"
   ]
  },
  {
   "cell_type": "code",
   "execution_count": 3,
   "id": "d7eaa017",
   "metadata": {},
   "outputs": [],
   "source": [
    "dir = \"ch_copy/00/\"\n",
    "doc_id = '0037'\n",
    "\n",
    "#function to get plain sentence, constituency parse and coreference-id-labeled tokens \n",
    "def get_sentence_profiles(doc_id):\n",
    "    profiles = {}\n",
    "    filename = \"ch_\" + doc_id + \".onf\"\n",
    "    fp = dir + filename\n",
    "    with open(fp, \"r\") as f:\n",
    "        lines = f.readlines()\n",
    "    #enumerated = enumerate(lines) -- don't do this\n",
    "    plain_sent_idxs = [i for i, txt in enumerate(lines) if txt == (\"Plain sentence:\\n\")]\n",
    "    treebanked_idxs = [i for i, txt in enumerate(lines) if txt.find(\"Treebanked sentence:\\n\") > -1]\n",
    "    tree_idxs = [i for i, txt in enumerate(lines) if txt == (\"Tree:\\n\")]\n",
    "    leaves_idxs = [i for i, txt in enumerate(lines) if txt == (\"Leaves:\\n\")]\n",
    "\n",
    "    n_sents = len(plain_sent_idxs)\n",
    "\n",
    "    for i in range(n_sents):\n",
    "        profile = doc_id + \"_\" + str(i)\n",
    "        profiles[profile] = {}\n",
    "        profiles[profile][\"plain\"] = lines[(plain_sent_idxs[i] + 2):treebanked_idxs[i]][0].strip()\n",
    "        profiles[profile][\"plain\"] = profiles[profile][\"plain\"].replace(\"--\", \"\")\n",
    "        raw_tree = lines[(tree_idxs[i]+2):leaves_idxs[i]]\n",
    "        profiles[profile][\"tree\"] = process_tree(raw_tree)\n",
    "\n",
    "        if i < n_sents - 1:\n",
    "            profiles[profile][\"leaves\"] = lines[(leaves_idxs[i]+2):(plain_sent_idxs[i+1]-3)]\n",
    "        else:\n",
    "            profiles[profile][\"leaves\"] = lines[(leaves_idxs[i]+2):-3]\n",
    "\n",
    "        profiles[profile][\"leaves\"] = process_leaves(profiles[profile][\"leaves\"])\n",
    "\n",
    "        i += 1\n",
    "    return profiles\n",
    "\n",
    "def process_leaves(leafnotes):\n",
    "    leaves_dict = {}\n",
    "    i = 0\n",
    "    for line in leafnotes:\n",
    "        line = line.strip()\n",
    "        if len(line) > 0:\n",
    "            line = line.split()\n",
    "            if line[0].isdigit():\n",
    "                if line[1] != \"--\":\n",
    "                    leaves_dict[i] = {\"token\":\"\", \"info\": []}\n",
    "                    leaves_dict[i][\"token\"] = line[1]\n",
    "                    i += 1\n",
    "            elif i-1 in leaves_dict:\n",
    "                leaves_dict[i-1][\"info\"].append(line)\n",
    "       \n",
    "    return leaves_dict\n",
    "\n",
    "def process_tree(raw_tree):\n",
    "    tree = \"\"\n",
    "    for line in raw_tree:\n",
    "        tree += line.strip()\n",
    "    return tree\n",
    "\n",
    "def get_doc_profile(doc_id):\n",
    "    profile = {}\n",
    "    sentence_profiles = get_sentence_profiles(doc_id)\n",
    "    profile[\"plain\"] = \"\"\n",
    "    for id in sentence_profiles:\n",
    "        profile[\"plain\"] += sentence_profiles[id][\"plain\"]\n",
    "    profile[\"tree\"] = [sentence_profiles[profile][\"tree\"] for profile in sentence_profiles]\n",
    "    profile[\"leaves\"] = sentence_profiles[doc_id + \"_0\"][\"leaves\"]\n",
    "    sentence_profiles_tail = dict(list(sentence_profiles.items())[1:])\n",
    "    i = list(profile[\"leaves\"].keys())[-1]\n",
    "    for id in sentence_profiles_tail:\n",
    "        for leaf in sentence_profiles[id]['leaves']:\n",
    "            i += 1\n",
    "            profile[\"leaves\"][i] = sentence_profiles_tail[id]['leaves'][leaf]\n",
    "    return profile\n"
   ]
  },
  {
   "cell_type": "code",
   "execution_count": 4,
   "id": "986e8511",
   "metadata": {},
   "outputs": [],
   "source": [
    "s_profiles = get_sentence_profiles(doc_id)\n",
    "doc_profile = get_doc_profile(doc_id)\n",
    "sample = s_profiles['0037_0']#['plain']"
   ]
  },
  {
   "cell_type": "code",
   "execution_count": 5,
   "id": "28b2d869",
   "metadata": {},
   "outputs": [],
   "source": [
    "#tokenization\n",
    "\n",
    "##word-level\n",
    "def get_words(sentence_profile):\n",
    "    leaves = sentence_profile[\"leaves\"]\n",
    "    #words = [(idx, leaves[i][\"token\"]) for idx, i in enumerate(leaves)]\n",
    "    words = [leaves[i][\"token\"] for i in leaves]\n",
    "    return words\n",
    "\n",
    "##character-level\n",
    "def get_characters(sentence_profile):\n",
    "    #characters = [(idx, ch) for idx, ch in enumerate(sentence_profile[\"plain\"])]\n",
    "    characters = [ch for ch in sentence_profile[\"plain\"]]\n",
    "    return characters"
   ]
  },
  {
   "cell_type": "code",
   "execution_count": 6,
   "id": "d59b0168",
   "metadata": {},
   "outputs": [],
   "source": [
    "#set model and tokenizer\n",
    "model_name = \"hfl/chinese-bert-wwm\" #\"ckiplab/gpt2-base-chinese\" #\"bert-base-chinese\"\n",
    "from transformers import AutoTokenizer, AutoModelForCausalLM\n",
    "tokenizer = AutoTokenizer.from_pretrained(model_name)\n",
    "model = AutoModel.from_pretrained(model_name, output_attentions=True)"
   ]
  },
  {
   "cell_type": "code",
   "execution_count": 7,
   "id": "f77405ca",
   "metadata": {},
   "outputs": [],
   "source": [
    "heads = 0\n",
    "layers = 0\n",
    "\n",
    "#returns attention weights for specified head\n",
    "def attention_map(model, text, heads, layers):\n",
    "    inputs = tokenizer(text, return_tensors=\"pt\")\n",
    "    outputs = model(**inputs)\n",
    "    print(torch.stack(outputs.attentions).shape)\n",
    "    attention_matrix = torch.stack(outputs.attentions)[layers, :, heads, :, :].squeeze(0).detach().numpy()\n",
    "    print(attention_matrix.shape)\n",
    "    # = attention[layers.unsqueeze(0), :, heads, :, :]\n",
    "    #print(selection.shape)\n",
    "    #aggregate = attention.sum(dim = 0).detach().numpy()\n",
    "    #print(aggregate.shape)\n",
    "    \n",
    "    tokens = tokenizer.convert_ids_to_tokens(inputs[\"input_ids\"][0])\n",
    "    punct_idxs = [idx for idx, token in enumerate(tokens) if token in [\",\", \"[CLS]\", \"[SEP]\"]]\n",
    "    tokens = [token for i, token in enumerate(tokens) if i not in punct_idxs]\n",
    "    attention_matrix = np.delete(attention_matrix, punct_idxs, axis = 1)\n",
    "    attention_matrix = np.delete(attention_matrix, punct_idxs, axis = 0)\n",
    "    \n",
    "    return attention_matrix #return aggregate.detach().numpy()\n",
    "    #tokens = tokenizer.convert_ids_to_tokens(inputs[\"input_ids\"][0])"
   ]
  },
  {
   "cell_type": "code",
   "execution_count": 8,
   "id": "b2cfc12e",
   "metadata": {},
   "outputs": [],
   "source": [
    "#create CT instance and look for layers adhering to Cf rankings, try several aggregates of intermediate layers\n",
    "\n",
    "#Hypothesis 1：linear order (looking for first-mention effect)\n",
    "def mention_sequence(string):\n",
    "    tree = Tree.fromstring(string)\n",
    "    lleaves = tree.pos()\n",
    "    return [(i, leaf[0]) for i, leaf in enumerate(lleaves) if \"N\" in leaf[1] and \"*-\" not in leaf[0]]\n",
    "\n",
    "def mention_set(string):\n",
    "    return set(mention_sequence(string)) #ensure that order is preserved\n",
    "\n",
    "#Hypothesis 2: grammatical role (ranking by grammatical role)\n",
    "\n",
    "#Hypothesis 3: "
   ]
  },
  {
   "cell_type": "code",
   "execution_count": 9,
   "id": "6392a1f0",
   "metadata": {},
   "outputs": [
    {
     "name": "stdout",
     "output_type": "stream",
     "text": [
      "(TOP (UCP (IP (NP-SBJ (-NONE- *pro*))(VP (ADVP (AD 就))(VP (VV 觉)(CP-OBJ (IP (NP-SBJ (-NONE- *pro*))(VP (ADVP (AD 挺))(ADVP (AD 不))(VP (VV 舒服))))(SP 的))(PU ,))))(CP (IP (ADVP (AD 本来))(ADVP (AD 就是))(NP-SBJ (NN 信心))(VP (ADVP (AD 挺))(VP (VA 足))))(SP 的))(PU .)))\n",
      "[(0, '*pro*'), (3, '*pro*'), (11, '信心')]\n"
     ]
    }
   ],
   "source": [
    "print((sample[\"tree\"]))\n",
    "print(mention_sequence(sample[\"tree\"]))"
   ]
  },
  {
   "cell_type": "code",
   "execution_count": 38,
   "id": "d6330eed",
   "metadata": {},
   "outputs": [
    {
     "name": "stdout",
     "output_type": "stream",
     "text": [
      "(VV 舒服)\n",
      "6\n"
     ]
    },
    {
     "data": {
      "text/plain": [
       "6"
      ]
     },
     "execution_count": 38,
     "metadata": {},
     "output_type": "execute_result"
    }
   ],
   "source": [
    "tree = Tree.fromstring(sample[\"tree\"])\n",
    "#print(sample[\"leaves\"])\n",
    "null_sbj_idxs = [i for i in sample[\"leaves\"] if sample[\"leaves\"][i][\"token\"] == \"*pro*\" and sample[\"leaves\"][i][\"info\"]]\n",
    "#rint(null_sbj_idxs)\n",
    "nsubj_tree_positions = [tree.leaf_treeposition(idx) for idx in null_sbj_idxs]\n",
    "#print(nsubj_tree_positions)\n",
    "nsubj1_position = nsubj_tree_positions[0]\n",
    "t_positions = tree.treepositions(order='preorder')\n",
    "#print(tree[nsubj1_position])\n",
    "#print(tree[t_positions[t_positions.index(nsubj1_position) -1]])\n",
    "#print(tree[t_positions[t_positions.index(nsubj1_position) -2]])\n",
    "#print(tree[t_positions[t_positions.index(nsubj1_position) -3]])\n",
    "\n",
    "def get_main_verb(tree, nsubj_idx):\n",
    "    t_positions = tree.treepositions(order = 'preorder')\n",
    "    leaf_positions = [tree.leaf_treeposition(idx) for idx in range(len(tree.leaves()))]\n",
    "    nsubj_leaf_position = tree.leaf_treeposition(nsubj_idx)\n",
    "    IP_idx = t_positions.index(nsubj_leaf_position) - 3\n",
    "    IP_pos = t_positions[IP_idx]\n",
    "    IP_tree = tree[IP_pos]\n",
    "    IPt_positions = IP_tree.treepositions(order='preorder')\n",
    "    mv_idx = None\n",
    "    for i in range(len(IPt_positions)):\n",
    "        position = IPt_positions[i]\n",
    "        if type(IP_tree[position]) == str and IP_tree[IPt_positions[i-1]].label() == 'VV':\n",
    "            print(IP_tree[IPt_positions[i-1]])\n",
    "            mv_idx = leaf_positions.index(t_positions[IP_idx + i])\n",
    "            print(mv_idx)\n",
    "            return mv_idx\n",
    "    return None\n",
    "\n",
    "get_main_verb(tree, 3)"
   ]
  },
  {
   "cell_type": "code",
   "execution_count": 22,
   "id": "32b2a901",
   "metadata": {},
   "outputs": [
    {
     "name": "stdout",
     "output_type": "stream",
     "text": [
      "                                           TOP                                          \n",
      "                                            |                                            \n",
      "                                           UCP                                          \n",
      "              ______________________________|_________________________________________   \n",
      "             IP                                                      |                | \n",
      "   __________|__________                                             |                |  \n",
      "  |                     VP                                           |                | \n",
      "  |      _______________|_________                                   |                |  \n",
      "  |     |                         VP                                 |                | \n",
      "  |     |     ____________________|_____________                     |                |  \n",
      "  |     |    |                  CP-OBJ          |                    CP               | \n",
      "  |     |    |                ____|_________    |               _____|____________    |  \n",
      "  |     |    |               IP             |   |              IP                 |   | \n",
      "  |     |    |     __________|____          |   |    __________|__________        |   |  \n",
      "  |     |    |    |               VP        |   |   |    |     |          VP      |   | \n",
      "  |     |    |    |      _________|_____    |   |   |    |     |      ____|___    |   |  \n",
      "NP-SBJ ADVP  |  NP-SBJ ADVP      ADVP   VP  |   |  ADVP ADVP NP-SBJ ADVP      VP  |   | \n",
      "  |     |    |    |     |         |     |   |   |   |    |     |     |        |   |   |  \n",
      "-NONE-  AD   VV -NONE-  AD        AD    VV  SP  PU  AD   AD    NN    AD       VA  SP  PU\n",
      "  |     |    |    |     |         |     |   |   |   |    |     |     |        |   |   |  \n",
      "*pro*   就    觉  *pro*   挺         不     舒服  的   ,   本来   就是    信心    挺        足   的   . \n",
      "\n"
     ]
    }
   ],
   "source": [
    "tree.pretty_print()"
   ]
  },
  {
   "cell_type": "code",
   "execution_count": null,
   "id": "6a894f39",
   "metadata": {},
   "outputs": [],
   "source": [
    "def test_hyp_1(profile, is_bidirectional = True):\n",
    "    tree = Tree.fromstring(profile[\"tree\"])\n",
    "    leafnotes = profile[\"leaves\"]\n",
    "    null_sbj_idxs = [i for i in leafnotes if leafnotes[i][\"token\"] == \"*pro*\" and not leafnotes[\"info\"].isempty()]\n",
    "    nsubj_tree_position = [tree.leaf_treeposition(idx) for idx in null_sbj_idxs]\n",
    "\n",
    "    #for map in attention_map:\n",
    "    \n",
    "hypotheses = {1: test_hyp_1}      "
   ]
  },
  {
   "cell_type": "code",
   "execution_count": 301,
   "id": "ff61c696",
   "metadata": {},
   "outputs": [
    {
     "name": "stdout",
     "output_type": "stream",
     "text": [
      "torch.Size([12, 1, 12, 20, 20])\n",
      "(20, 20)\n"
     ]
    },
    {
     "data": {
      "image/png": "[encoded data removed]",
      "text/plain": [
       "<Figure size 640x480 with 2 Axes>"
      ]
     },
     "metadata": {},
     "output_type": "display_data"
    }
   ],
   "source": [
    "attention_matrix = attention_map(model, sample['plain'], heads, layers)\n",
    "figure = sns.heatmap(attention_matrix, xticklabels=2, yticklabels=2)\n",
    "figure.invert_yaxis()\n",
    "plt.show()"
   ]
  }
 ],
 "metadata": {
  "kernelspec": {
   "display_name": ".venv",
   "language": "python",
   "name": "python3"
  },
  "language_info": {
   "codemirror_mode": {
    "name": "ipython",
    "version": 3
   },
   "file_extension": ".py",
   "mimetype": "text/x-python",
   "name": "python",
   "nbconvert_exporter": "python",
   "pygments_lexer": "ipython3",
   "version": "3.12.7"
  }
 },
 "nbformat": 4,
 "nbformat_minor": 5
}
