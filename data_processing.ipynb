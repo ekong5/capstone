{
 "cells": [
  {
   "cell_type": "code",
   "execution_count": 1,
   "id": "e63bbc9f",
   "metadata": {},
   "outputs": [],
   "source": [
    "from nltk.tree import Tree"
   ]
  },
  {
   "cell_type": "code",
   "execution_count": 20,
   "id": "094c9f10",
   "metadata": {},
   "outputs": [],
   "source": [
    "def string_to_leaves(string):\n",
    "    tree = Tree.fromstring(string)\n",
    "    leaf_labels = tree.pos()\n",
    "    return leaf_labels"
   ]
  },
  {
   "cell_type": "code",
   "execution_count": 25,
   "id": "bff3906f",
   "metadata": {},
   "outputs": [],
   "source": [
    "string = '''(TOP (CP (IP (IP-ADV (NP-SBJ (PN 我))\n",
    "                         (VP (VV 看)\n",
    "                             (AS 了)\n",
    "                             (NP-OBJ (ADJP (JJ 有关))\n",
    "                                     (NP (NN 资料)))))\n",
    "                 (PU ，)\n",
    "                 (NP-SBJ (NR 左旋)\n",
    "                         (NN 维C))\n",
    "                 (VP (VP (LCP-TMP (IP (NP-SBJ (-NONE- *PRO*))\n",
    "                                      (VP (VV 溶于)\n",
    "                                          (NP-OBJ (NN 水))))\n",
    "                                  (LC 后))\n",
    "                         (ADVP (ADVP (AD 比较))\n",
    "                               (ADVP (VA 容易)))\n",
    "                         (VP (VV 氧化)))\n",
    "                     (PU ，)\n",
    "                     (VP (LCP-TMP (IP (NP-SBJ-1 (-NONE- *PRO*))\n",
    "                                      (VP (SB 被)\n",
    "                                          (VP (VV 氧化)\n",
    "                                              (NP-OBJ (-NONE- *-1)))))\n",
    "                                  (LC 后))\n",
    "                         (ADVP (AD 就))\n",
    "                         (VP (VV 失去)\n",
    "                             (NP-OBJ (CP-APP (IP (NP-SBJ (-NONE- *pro*))\n",
    "                                                 (VP (VV 美白)))\n",
    "                                             (DEC 的))\n",
    "                                     (NP (NN 作用)))))))\n",
    "             (SP 了)\n",
    "             (PU 。)))'''"
   ]
  },
  {
   "cell_type": "code",
   "execution_count": 26,
   "id": "6363bcfb",
   "metadata": {},
   "outputs": [
    {
     "name": "stdout",
     "output_type": "stream",
     "text": [
      "[('我', 'PN'), ('看', 'VV'), ('了', 'AS'), ('有关', 'JJ'), ('资料', 'NN'), ('，', 'PU'), ('左旋', 'NR'), ('维C', 'NN'), ('*PRO*', '-NONE-'), ('溶于', 'VV'), ('水', 'NN'), ('后', 'LC'), ('比较', 'AD'), ('容易', 'VA'), ('氧化', 'VV'), ('，', 'PU'), ('*PRO*', '-NONE-'), ('被', 'SB'), ('氧化', 'VV'), ('*-1', '-NONE-'), ('后', 'LC'), ('就', 'AD'), ('失去', 'VV'), ('*pro*', '-NONE-'), ('美白', 'VV'), ('的', 'DEC'), ('作用', 'NN'), ('了', 'SP'), ('。', 'PU')]\n"
     ]
    }
   ],
   "source": [
    "print(string_to_leaves(string))"
   ]
  },
  {
   "cell_type": "code",
   "execution_count": null,
   "id": "f52ac34c",
   "metadata": {},
   "outputs": [],
   "source": []
  }
 ],
 "metadata": {
  "kernelspec": {
   "display_name": ".venv",
   "language": "python",
   "name": "python3"
  },
  "language_info": {
   "codemirror_mode": {
    "name": "ipython",
    "version": 3
   },
   "file_extension": ".py",
   "mimetype": "text/x-python",
   "name": "python",
   "nbconvert_exporter": "python",
   "pygments_lexer": "ipython3",
   "version": "3.12.7"
  }
 },
 "nbformat": 4,
 "nbformat_minor": 5
}
