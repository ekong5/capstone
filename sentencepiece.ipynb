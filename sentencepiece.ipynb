{
 "cells": [
  {
   "cell_type": "code",
   "execution_count": null,
   "id": "7d72191f",
   "metadata": {},
   "outputs": [],
   "source": [
    "from transformers import AutoModel, AutoTokenizer\n",
    "from tokenizers import SentencePieceBPETokenizer\n",
    "import torch\n",
    "from transformers import PreTrainedTokenizerFast\n",
    "import matplotlib.pyplot as plt\n",
    "import seaborn as sns"
   ]
  },
  {
   "cell_type": "code",
   "execution_count": 7,
   "id": "58f4827c",
   "metadata": {},
   "outputs": [
    {
     "name": "stdout",
     "output_type": "stream",
     "text": [
      "\n",
      "\n",
      "\n"
     ]
    }
   ],
   "source": [
    "with open(\"sp_trainer_data.txt\", \"r\") as f:\n",
    "    text = f.read()\n",
    "\n",
    "tokenizer = SentencePieceBPETokenizer()\n",
    "tokenizer.train_from_iterator(\n",
    "    text,\n",
    "    vocab_size=30_000,\n",
    "    min_frequency=5,\n",
    "    show_progress=True,\n",
    "    limit_alphabet=500,\n",
    ")\n",
    "\n",
    "transformer_tokenizer = PreTrainedTokenizerFast(\n",
    "    tokenizer_object=tokenizer\n",
    ")"
   ]
  },
  {
   "cell_type": "code",
   "execution_count": null,
   "id": "1f34d9b2",
   "metadata": {},
   "outputs": [],
   "source": [
    "model_name = \"ckiplab/gpt2-base-chinese\" #\"hfl/chinese-bert-wwm\" #\"bert-base-chinese\"\n",
    "from transformers import AutoTokenizer, AutoModelForCausalLM\n",
    "#tokenizer = AutoTokenizer.from_pretrained(model_name)\n",
    "model = AutoModel.from_pretrained(model_name, output_attentions=True)\n",
    "\n",
    "inputs = transformer_tokenizer(\"我们喝了柠檬水,很舒服\", return_tensors=\"pt\")\n",
    "outputs = model(**inputs)"
   ]
  },
  {
   "cell_type": "code",
   "execution_count": 10,
   "id": "077ba9c2",
   "metadata": {},
   "outputs": [
    {
     "data": {
      "text/plain": [
       "['▁我', '们', '<unk>', '了', '<unk>', '<unk>', '水', ',', '很', '<unk>', '服']"
      ]
     },
     "execution_count": 10,
     "metadata": {},
     "output_type": "execute_result"
    }
   ],
   "source": [
    "transformer_tokenizer.convert_ids_to_tokens(inputs[\"input_ids\"][0])"
   ]
  },
  {
   "cell_type": "code",
   "execution_count": 14,
   "id": "5dbf4ae1",
   "metadata": {},
   "outputs": [
    {
     "name": "stdout",
     "output_type": "stream",
     "text": [
      "<class 'numpy.ndarray'>\n"
     ]
    },
    {
     "name": "stderr",
     "output_type": "stream",
     "text": [
      "/Users/Emma/Desktop/capstone/.venv/lib/python3.12/site-packages/seaborn/utils.py:61: UserWarning: Glyph 25105 (\\N{CJK UNIFIED IDEOGRAPH-6211}) missing from font(s) DejaVu Sans.\n",
      "  fig.canvas.draw()\n",
      "/Users/Emma/Desktop/capstone/.venv/lib/python3.12/site-packages/seaborn/utils.py:61: UserWarning: Glyph 20204 (\\N{CJK UNIFIED IDEOGRAPH-4EEC}) missing from font(s) DejaVu Sans.\n",
      "  fig.canvas.draw()\n",
      "/Users/Emma/Desktop/capstone/.venv/lib/python3.12/site-packages/seaborn/utils.py:61: UserWarning: Glyph 20102 (\\N{CJK UNIFIED IDEOGRAPH-4E86}) missing from font(s) DejaVu Sans.\n",
      "  fig.canvas.draw()\n",
      "/Users/Emma/Desktop/capstone/.venv/lib/python3.12/site-packages/seaborn/utils.py:61: UserWarning: Glyph 27700 (\\N{CJK UNIFIED IDEOGRAPH-6C34}) missing from font(s) DejaVu Sans.\n",
      "  fig.canvas.draw()\n",
      "/Users/Emma/Desktop/capstone/.venv/lib/python3.12/site-packages/seaborn/utils.py:61: UserWarning: Glyph 24456 (\\N{CJK UNIFIED IDEOGRAPH-5F88}) missing from font(s) DejaVu Sans.\n",
      "  fig.canvas.draw()\n",
      "/Users/Emma/Desktop/capstone/.venv/lib/python3.12/site-packages/seaborn/utils.py:61: UserWarning: Glyph 26381 (\\N{CJK UNIFIED IDEOGRAPH-670D}) missing from font(s) DejaVu Sans.\n",
      "  fig.canvas.draw()\n",
      "/Users/Emma/Desktop/capstone/.venv/lib/python3.12/site-packages/IPython/core/pylabtools.py:170: UserWarning: Glyph 25105 (\\N{CJK UNIFIED IDEOGRAPH-6211}) missing from font(s) DejaVu Sans.\n",
      "  fig.canvas.print_figure(bytes_io, **kw)\n",
      "/Users/Emma/Desktop/capstone/.venv/lib/python3.12/site-packages/IPython/core/pylabtools.py:170: UserWarning: Glyph 20204 (\\N{CJK UNIFIED IDEOGRAPH-4EEC}) missing from font(s) DejaVu Sans.\n",
      "  fig.canvas.print_figure(bytes_io, **kw)\n",
      "/Users/Emma/Desktop/capstone/.venv/lib/python3.12/site-packages/IPython/core/pylabtools.py:170: UserWarning: Glyph 20102 (\\N{CJK UNIFIED IDEOGRAPH-4E86}) missing from font(s) DejaVu Sans.\n",
      "  fig.canvas.print_figure(bytes_io, **kw)\n",
      "/Users/Emma/Desktop/capstone/.venv/lib/python3.12/site-packages/IPython/core/pylabtools.py:170: UserWarning: Glyph 27700 (\\N{CJK UNIFIED IDEOGRAPH-6C34}) missing from font(s) DejaVu Sans.\n",
      "  fig.canvas.print_figure(bytes_io, **kw)\n",
      "/Users/Emma/Desktop/capstone/.venv/lib/python3.12/site-packages/IPython/core/pylabtools.py:170: UserWarning: Glyph 24456 (\\N{CJK UNIFIED IDEOGRAPH-5F88}) missing from font(s) DejaVu Sans.\n",
      "  fig.canvas.print_figure(bytes_io, **kw)\n",
      "/Users/Emma/Desktop/capstone/.venv/lib/python3.12/site-packages/IPython/core/pylabtools.py:170: UserWarning: Glyph 26381 (\\N{CJK UNIFIED IDEOGRAPH-670D}) missing from font(s) DejaVu Sans.\n",
      "  fig.canvas.print_figure(bytes_io, **kw)\n"
     ]
    },
    {
     "data": {
      "image/png": "[encoded data removed]",
      "text/plain": [
       "<Figure size 640x480 with 2 Axes>"
      ]
     },
     "metadata": {},
     "output_type": "display_data"
    }
   ],
   "source": [
    "layer = 0\n",
    "head = 0\n",
    "attention_matrix = torch.stack(outputs.attentions).cpu()[layer][0][head].detach().numpy()\n",
    "print(type(attention_matrix))\n",
    "sns.heatmap(attention_matrix, xticklabels=transformer_tokenizer.convert_ids_to_tokens(inputs[\"input_ids\"][0]), yticklabels=transformer_tokenizer.convert_ids_to_tokens(inputs[\"input_ids\"][0]))\n",
    "plt.show()"
   ]
  }
 ],
 "metadata": {
  "kernelspec": {
   "display_name": ".venv",
   "language": "python",
   "name": "python3"
  },
  "language_info": {
   "codemirror_mode": {
    "name": "ipython",
    "version": 3
   },
   "file_extension": ".py",
   "mimetype": "text/x-python",
   "name": "python",
   "nbconvert_exporter": "python",
   "pygments_lexer": "ipython3",
   "version": "3.12.7"
  }
 },
 "nbformat": 4,
 "nbformat_minor": 5
}
